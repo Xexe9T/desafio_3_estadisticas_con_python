{
 "cells": [
  {
   "metadata": {},
   "cell_type": "markdown",
   "source": "# DESAFIO 3 ANALISIS ESTADISTICO CON PYTHON-DATA SCIENCE-DESAFIO LATAM",
   "id": "cdfcb0e6c090498d"
  },
  {
   "metadata": {},
   "cell_type": "markdown",
   "source": [
    "### Descripción\n",
    "Un grupo de investigadores está interesado en analizar la relación entre el hábito de fumar\n",
    "con el crecimiento de los bebés en edad gestacional. Para esto han recopilado los datos\n",
    "guardados en el dataset baby.csv, que contiene los siguientes campos de datos:\n",
    "- **Birth.Weight** : Peso del bebe\n",
    "- **Gestational.Days**: Días de gestación\n",
    "- **Maternal.Age**: Edad de la madre\n",
    "- **Maternal.Height**: Altura de la madre\n",
    "- **Maternal.Pregnancy.Weight**: Peso de la madre\n",
    "- **Maternal.Smoker**: ¿Es la madre fumadora? (True: fumadora, False: no es fumadora)"
   ],
   "id": "31add8da53fa2d79"
  },
  {
   "metadata": {},
   "cell_type": "markdown",
   "source": "## A partir de estos datos se solicita:",
   "id": "31303a1ed70f6fda"
  },
  {
   "metadata": {},
   "cell_type": "markdown",
   "source": "### 1. Realiza una exploración de los datos, considerando sus tipos y los descriptivos correspondientes.",
   "id": "6f93b27b4b243ab9"
  },
  {
   "metadata": {
    "ExecuteTime": {
     "end_time": "2024-08-15T22:53:52.262768Z",
     "start_time": "2024-08-15T22:53:51.749823Z"
    }
   },
   "cell_type": "code",
   "source": [
    "# Importamos librerias necesarias\n",
    "import numpy as np\n",
    "import pandas as pd\n",
    "import matplotlib.pyplot as plt\n"
   ],
   "id": "63235df4ed529a31",
   "outputs": [],
   "execution_count": 1
  },
  {
   "metadata": {},
   "cell_type": "markdown",
   "source": [
    "### 2. Considera los pesos de los bebés. ¿Se puede decir que siguen una distribución\n",
    "### normal? Justifica tu respuesta creando los gráficos y modelos necesarios."
   ],
   "id": "e2bf662616e537d2"
  },
  {
   "metadata": {},
   "cell_type": "markdown",
   "source": [
    "### 3. Considerando lo anterior, verifica el modelo de distribución normal de los pesos para 5\n",
    "### valores diferentes. Compara con los datos reales."
   ],
   "id": "ea40c8f5e4756731"
  },
  {
   "metadata": {},
   "cell_type": "markdown",
   "source": [
    "### 4. Compara los pesos de los bebés de madres fumadoras y no fumadoras. ¿Qué\n",
    "### diferencias existen? Explica y construye los modelos correspondientes."
   ],
   "id": "2b232ee93bac79d3"
  },
  {
   "metadata": {},
   "cell_type": "markdown",
   "source": [
    "### 5. Considerando los datos dados:\n",
    "- Calcula la probabilidad de que una madre escogida al azar fume.\n",
    "- A partir del valor anterior, construye un modelo de distribución binomial que\n",
    "modele el experimento correspondiente a escoger 5 madres al azar y observar\n",
    "cuántas fuman.\n",
    "- Utilizando este modelo, simula 1000 muestras de tamaño 8, y calcula sus medias\n",
    "muestrales.\n",
    "- Utilizando los datos directamente, extrae 1000 muestras de tamaño 8 y calcula\n",
    "sus respectivas medias muestrales.\n",
    "\n",
    "Utilizando lo anterior:\n",
    "- Compara gráficamente los resultados obtenidos anteriormente.\n",
    "- Verifica el teorema del límite central, considerando las muestras de datos reales y\n",
    "las simuladas con el modelo binomial.\n",
    "- Construye un modelo de distribución normal derivado del modelo binomial, y\n",
    "grafícalo junto a los anteriores para comparar. Concluye."
   ],
   "id": "c6fe3bf79b58a7bb"
  },
  {
   "cell_type": "code",
   "execution_count": null,
   "id": "initial_id",
   "metadata": {
    "collapsed": true
   },
   "outputs": [],
   "source": [
    ""
   ]
  }
 ],
 "metadata": {
  "kernelspec": {
   "display_name": "Python 3",
   "language": "python",
   "name": "python3"
  },
  "language_info": {
   "codemirror_mode": {
    "name": "ipython",
    "version": 2
   },
   "file_extension": ".py",
   "mimetype": "text/x-python",
   "name": "python",
   "nbconvert_exporter": "python",
   "pygments_lexer": "ipython2",
   "version": "2.7.6"
  }
 },
 "nbformat": 4,
 "nbformat_minor": 5
}
